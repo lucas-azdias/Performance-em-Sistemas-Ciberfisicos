{
  "nbformat": 4,
  "nbformat_minor": 0,
  "metadata": {
    "colab": {
      "provenance": [],
      "authorship_tag": "ABX9TyOdoa4nz7FKmZr2pz8T1PpZ",
      "include_colab_link": true
    },
    "kernelspec": {
      "name": "python3",
      "display_name": "Python 3"
    },
    "language_info": {
      "name": "python"
    }
  },
  "cells": [
    {
      "cell_type": "markdown",
      "metadata": {
        "id": "view-in-github",
        "colab_type": "text"
      },
      "source": [
        "<a href=\"https://colab.research.google.com/github/FunNyLuAz/Performance-em-Sistemas-Ciberfisicos/blob/main/Trabalho%20Avaliativo%201%20-%20Tempo%20e%20Mem%C3%B3ria%20-%202023-1.ipynb\" target=\"_parent\"><img src=\"https://colab.research.google.com/assets/colab-badge.svg\" alt=\"Open In Colab\"/></a>"
      ]
    },
    {
      "cell_type": "markdown",
      "source": [
        "\n",
        "\n",
        "---\n",
        "\n",
        "\n",
        "A) Criar um array com 1000 caracteres aleatórios"
      ],
      "metadata": {
        "id": "gV7mg8TvSwwG"
      }
    },
    {
      "cell_type": "code",
      "execution_count": null,
      "metadata": {
        "colab": {
          "base_uri": "https://localhost:8080/"
        },
        "id": "a_ofMqUrrjrW",
        "outputId": "5f4d3095-befe-4111-8ed8-6a3396d0d39b"
      },
      "outputs": [
        {
          "output_type": "stream",
          "name": "stdout",
          "text": [
            "Com a biblioteca random, em 5213935ns foi usado ao final 9813bytes, com um pico de 20478bytes\n"
          ]
        }
      ],
      "source": [
        "#A) (Com biblioteca Random)\n",
        "\n",
        "import time\n",
        "import tracemalloc\n",
        "\n",
        "import random as rand\n",
        "\n",
        "initialTime = time.time_ns() # Salva o tempo inicial em nanosegundos\n",
        "tracemalloc.start() # Inicia monitoramento da memória\n",
        "\n",
        "chars = list()\n",
        "for i in range(1000):\n",
        "  chars.append(chr(rand.randint(0, 127)))\n",
        "# OBS.: Usando uma String acaba sendo muito mais eficiente em consumo de memória\n",
        "\n",
        "memoryUsed = tracemalloc.get_traced_memory() # Salva a memória usada\n",
        "tracemalloc.stop() # Finaliza monitoramento da memória\n",
        "endTime = time.time_ns() # Salva o tempo final em nanosegundos\n",
        "\n",
        "print(f\"Com a biblioteca random, em {endTime - initialTime}ns foi usado ao final {memoryUsed[0]}bytes, com um pico de {memoryUsed[1]}bytes\")"
      ]
    },
    {
      "cell_type": "code",
      "source": [
        "#A) (Com o Mersenne Twister (MT19937) do Numpy.random)\n",
        "\n",
        "import time\n",
        "import tracemalloc\n",
        "\n",
        "import numpy.random as rand\n",
        "\n",
        "initialTime = time.time_ns() # Salva o tempo inicial em nanosegundos\n",
        "tracemalloc.start() # Inicia monitoramento da memória\n",
        "\n",
        "chars = list()\n",
        "bitGen = rand.MT19937(rand.SeedSequence())\n",
        "for i in range(1000):\n",
        "    chars.append(chr(rand.Generator(bitGen).integers(0, 127)))\n",
        "    bitGen = bitGen.jumped()\n",
        "# OBS.: Usando uma String acaba sendo muito mais eficiente em consumo de memória\n",
        "\n",
        "memoryUsed = tracemalloc.get_traced_memory() # Salva a memória usada\n",
        "tracemalloc.stop() # Finaliza monitoramento da memória\n",
        "endTime = time.time_ns() # Salva o tempo final em nanosegundos\n",
        "\n",
        "print(f\"Com o Mersenne Twister (MT19937), em {endTime - initialTime}ns foi usado ao final {memoryUsed[0]}bytes, com um pico de {memoryUsed[1]}bytes\")"
      ],
      "metadata": {
        "colab": {
          "base_uri": "https://localhost:8080/"
        },
        "id": "dju_KrFAxgY5",
        "outputId": "5bda9778-6dc0-455f-f56e-729210117f1f"
      },
      "execution_count": null,
      "outputs": [
        {
          "output_type": "stream",
          "name": "stdout",
          "text": [
            "Com o Mersenne Twister (MT19937), em 9332728843ns foi usado ao final 46984bytes, com um pico de 87479bytes\n"
          ]
        }
      ]
    },
    {
      "cell_type": "markdown",
      "source": [
        "\n",
        "\n",
        "---\n",
        "\n",
        "\n",
        "B) Ordenar um array com 1000 caracteres"
      ],
      "metadata": {
        "id": "16Q1HGiTS9hU"
      }
    },
    {
      "cell_type": "code",
      "source": [
        "#B)\n",
        "\n",
        "import time\n",
        "import tracemalloc\n",
        "\n",
        "import random as rand\n",
        "\n",
        "chars = list()\n",
        "for i in range(1000):\n",
        "  chars.append(chr(rand.randint(0, 127)))\n",
        "\n",
        "initialTime = time.time_ns() # Salva o tempo inicial em nanosegundos\n",
        "tracemalloc.start() # Inicia monitoramento da memória\n",
        "\n",
        "chars.sort()\n",
        "\n",
        "memoryUsed = tracemalloc.get_traced_memory() # Salva a memória usada\n",
        "tracemalloc.stop() # Finaliza monitoramento da memória\n",
        "endTime = time.time_ns() # Salva o tempo final em nanosegundos\n",
        "\n",
        "print(f\"Em {endTime - initialTime}ns foi usado ao final {memoryUsed[0]}bytes, com um pico de {memoryUsed[1]}bytes\")"
      ],
      "metadata": {
        "colab": {
          "base_uri": "https://localhost:8080/"
        },
        "id": "DppTmfvGTrLm",
        "outputId": "ae14c2fc-c7bf-4dbb-8574-aa21c60ae208"
      },
      "execution_count": null,
      "outputs": [
        {
          "output_type": "stream",
          "name": "stdout",
          "text": [
            "Em 699734ns foi usado ao final 929bytes, com um pico de 11483bytes\n"
          ]
        }
      ]
    },
    {
      "cell_type": "markdown",
      "source": [
        "\n",
        "\n",
        "---\n",
        "\n",
        "\n",
        "C) Imprimir, no terminal, um array com 1000 caracteres"
      ],
      "metadata": {
        "id": "SykzgVCQUI3f"
      }
    },
    {
      "cell_type": "code",
      "source": [
        "#C)\n",
        "\n",
        "import time\n",
        "import tracemalloc\n",
        "\n",
        "import random as rand\n",
        "\n",
        "chars = list()\n",
        "for i in range(1000):\n",
        "  chars.append(chr(rand.randint(0, 127)))\n",
        "\n",
        "initialTime = time.time_ns() # Salva o tempo inicial em nanosegundos\n",
        "tracemalloc.start() # Inicia monitoramento da memória\n",
        "\n",
        "print(chars)\n",
        "\n",
        "memoryUsed = tracemalloc.get_traced_memory() # Salva a memória usada\n",
        "tracemalloc.stop() # Finaliza monitoramento da memória\n",
        "endTime = time.time_ns() # Salva o tempo final em nanosegundos\n",
        "\n",
        "print(f\"Imprimindo como uma Lista, em {endTime - initialTime}ns foi usado ao final {memoryUsed[0]}bytes, com um pico de {memoryUsed[1]}bytes\")\n",
        "\n",
        "# ---\n",
        "\n",
        "initialTime = time.time_ns() # Salva o tempo inicial em nanosegundos\n",
        "tracemalloc.start() # Inicia monitoramento da memória\n",
        "\n",
        "text = \"\"\n",
        "for c in chars:\n",
        "  text += c\n",
        "print(chars)\n",
        "\n",
        "memoryUsed = tracemalloc.get_traced_memory() # Salva a memória usada\n",
        "tracemalloc.stop() # Finaliza monitoramento da memória\n",
        "endTime = time.time_ns() # Salva o tempo final em nanosegundos\n",
        "\n",
        "print(f\"Imprimindo como uma String, em {endTime - initialTime}ns foi usado ao final {memoryUsed[0]}bytes, com um pico de {memoryUsed[1]}bytes\")"
      ],
      "metadata": {
        "colab": {
          "base_uri": "https://localhost:8080/"
        },
        "id": "4tPTyOg1UPiD",
        "outputId": "0b62e565-29e3-4e7e-93e7-3c793018de3e"
      },
      "execution_count": null,
      "outputs": [
        {
          "output_type": "stream",
          "name": "stdout",
          "text": [
            "['\\x0e', '^', 'G', '!', '\\x02', '\\x1d', '\\x01', 'W', '\\x12', 'u', '}', '\\x0b', ']', 'r', '@', 'X', '0', '3', '\\x11', 'h', 'h', '+', '\\x01', 'H', '-', '+', '8', '!', 'J', '>', 'l', 'w', 'B', '_', '\\x0b', 'F', '-', '$', '\\n', 'C', ',', '+', 'O', '\\x1e', 'K', '\\x0b', '6', '\\x12', 'J', 'h', '&', 'T', '!', '\\x19', 'L', 'P', 'M', '*', '@', 'A', 'U', '\\x18', '`', '\\x0b', 'v', '~', '}', '}', 'Y', '\\x16', '_', 'H', '\\x7f', ' ', '\\x0c', 'x', '\\x0c', '&', 'r', \"'\", '>', 'j', ' ', '~', '8', 'b', 'Y', 'r', '\\x00', 'u', 'u', '0', 'A', 'n', '\\x01', 'R', '\\x0f', 'I', '\\x1a', 'H', 'A', 'E', ',', '4', '{', '\\x04', \"'\", 'T', '[', '\\x05', 't', 'd', ' ', '\\x04', 'Q', '\\n', '\\x1e', \"'\", '\\x0e', '\\t', 'Z', '\\x16', 'P', '+', 'V', '\\x19', 'a', 'M', '\\n', '9', '\\x7f', 'y', '_', ')', '\\x11', 'Z', 't', 'y', 'T', '/', '\\x0e', 'r', '5', '\\x12', 'W', 'h', 'j', '\\x0f', '?', '\\x12', '@', '/', '\\x1a', 'Z', '\\x18', '\\r', 'i', 'g', 'c', '+', 'H', '3', 'g', 'y', 'G', 'T', 'A', 'Z', 'P', '=', 'j', '9', '\\x0f', 'x', '\\x0b', 'b', '3', '\"', '\\x1b', '\\r', '\\x1f', '*', '/', '~', '\\x10', '[', 'b', 't', 'Y', 'n', 's', '\\t', '\\x16', 'p', 'e', '\\x1d', '}', 'a', '_', '&', 'd', '\\x10', 'L', '\\x07', '7', 'D', '~', 'R', '8', '$', '\\x19', '5', 'g', 'c', '}', '\\x04', '#', '}', 'U', 'E', 'C', '^', 'a', '\\n', 'X', '*', '*', ':', 'y', '-', '\\x1a', '#', 'g', 'R', '\\t', 'u', \"'\", 'L', 'I', '<', '1', '6', 'k', '1', 'g', 'Q', 'H', 'B', 'p', '\\x0e', '%', 'h', 'D', '5', '\\x03', 'E', '\\x1b', '0', '@', ',', '\\t', '%', '\\x08', ')', '\\x06', 'v', '{', 'C', '>', '\\x13', '\\x0c', '\\x03', 'f', 'n', 'J', 'V', '_', '+', '(', 'D', 'u', 'x', 'b', '&', 'U', 'I', '?', '\\x1c', 'X', '{', '~', '\\t', 'x', 'z', 't', '\\x1e', 'X', '{', 'g', 'a', '(', 'K', 'I', 'r', 'i', '4', '0', 'f', '#', '[', '+', 'K', '\\x13', 'E', 'i', '%', '`', ' ', 'B', '\\x0b', 'M', 'v', 'M', 'k', \"'\", ')', 'e', ')', '%', '\\x13', '8', 'c', 'S', '\\x1d', 'k', '\\x10', '\\x1a', 'R', 'N', '8', '0', 'e', 'X', 'c', '\\x1b', 'a', 'e', '\\x0e', 'l', 'E', '\\x18', '|', '\\x0b', '5', '\\x13', '|', '\\x16', 'P', '!', 'e', '5', '\\x1b', 'M', '.', 'u', '\\x16', '\\x04', 'd', '&', ')', ':', 'N', 'I', 'd', '%', '\\x1f', 'j', ')', 'K', 'y', 'L', 'n', ':', 'X', 'H', '~', '|', 'Q', 'n', '2', '\\x07', 'e', 'J', '\\x1f', 'j', '\\x00', '2', '\\x03', 'p', ' ', 'm', '/', 'q', '\\x17', '6', '\\x7f', '2', '\\x14', '5', '(', '\\x0f', '\\x11', '!', 'z', 'v', 'W', '\\x19', '(', 'M', '\\x11', '\\x0e', '^', '}', 'w', 'z', 'J', 'e', 'N', '<', '\\x1f', '\"', '\\x1f', 'B', '<', '`', '\\x1c', '\\t', '\\x1d', 'B', '\\x1c', 'v', '!', '(', 'e', 'Z', 'H', '\\x0e', 'N', '}', '8', 'N', '6', '\\r', '\\x15', '5', 'd', '\\x0e', 'H', '\\x02', 'L', 'd', '\\x16', '\"', '-', 'z', 'H', '(', 'p', '\\x02', '\\x02', 'z', ')', 'E', 'T', 'I', 'l', '\\x08', '\\x08', 'T', \"'\", '`', 'm', ' ', 'I', '\\x0c', 'B', '\\x05', 'P', 'M', '\\x15', '/', ' ', '_', '\\x04', '\\\\', '-', '#', ':', '\\x18', '8', '=', 'r', '\\x11', 't', '&', '`', 'm', '?', ';', 'x', '9', '\\x1e', '$', '\\x19', 's', '\\x03', '&', ' ', 'a', 'Q', '\\x18', '`', 'W', 'c', 'L', 'd', '\\x04', 'Z', '\\x17', '\\x16', '_', 'q', 'r', 'm', 'K', '-', ':', 'Y', ':', '\\x17', '$', ':', 't', '\\x0b', 'H', 'U', '\\x16', ' ', '$', '\\x06', 'f', '9', ']', 't', 'A', 't', 'G', 'p', 'M', '\\x1a', 'J', '^', '6', '\\x00', '\\x02', 'v', '#', 'x', '\\\\', 'k', '\\t', 'j', '\\x7f', '3', 'C', '+', '\\x10', '\\x1f', 'T', 'H', '\\x15', 'P', '\\x03', 'a', 'D', 'Z', 'b', '0', 'U', 'z', '\\x08', 'T', '\\t', '\\x01', '-', 'V', '3', ':', '\\x06', '[', '\\x1a', 'L', '\\x14', 'P', '#', '2', '{', 'S', '\\x1a', ':', '+', '9', 'p', 's', '\\x0f', '\\x0f', 'P', 'B', 'R', 'q', '7', '\\x0c', 'K', '3', 'N', 'x', 'a', 'h', '\\x1e', '!', 'r', '\\x15', '?', '!', '_', 'R', '_', 'O', '0', '$', 'G', '/', 'i', 'B', '\\x1b', '2', '6', 'K', '\\x03', 'U', '&', '2', 'e', '+', '\\x08', 'N', '1', '\\r', '=', '\\t', '6', 'Q', '5', '2', '7', 'x', 'n', '{', 'E', 'X', '\\x01', '\\x1d', '@', 'r', '\\x15', '\\x19', ' ', '2', ',', '{', 's', '(', '\\x14', '\\x1b', '\\x14', 'C', 'R', '>', 'I', 'c', '?', 'c', 'Y', 'c', ':', 'w', 'G', '6', '!', 'q', '`', '*', '\\x1a', 'r', 'o', 'X', 'C', 'n', 'H', 'L', '\\x19', ';', 'V', 'y', 'W', '\\t', 'p', 'A', '\\x0f', '3', 'K', 'v', 'M', '\\x0e', 'a', '\\n', '&', '$', 'r', '\\x01', '\\x17', ')', '\\x06', '-', '.', 'X', 'H', 'q', '.', 'C', 'S', '.', '\\x08', ':', '\\x16', 'q', 'A', '\\x01', 'K', '\\x0e', 'i', '\\x0b', 'i', 'A', 'Q', '\"', 'x', '3', '5', '\\x1f', 'L', '\\x17', 'q', 'D', '\\x02', 'Z', ' ', '\\x02', 'a', 'Z', 'J', ')', '\\x1d', '\\t', '[', 'W', 'c', '7', '{', '=', '6', '[', 'R', 's', '`', '/', '\\x1f', '!', '*', 'z', 'M', 's', ',', 'b', '~', '4', '\\x1a', 's', 'Q', 'C', 'H', 'g', '$', 'L', 'u', '#', '5', 'W', '\\x12', 'y', '\\x7f', 'p', 'I', 'V', '/', 'l', 'X', 'O', 'S', 'l', ':', 'b', 'Y', 'J', '\\x14', '\\x00', '{', '\\x08', '|', '\\x11', '/', 'E', 'D', '~', '9', 'w', 'V', 'Z', '\\x0b', '6', 'M', 'Y', 'v', '\\x05', '%', '\\x16', '*', '<', '%', '\\x18', '6', '\\x15', '\\x19', 'x', '\\x07', '1', 'e', '\\x15', '5', 't', 'V', 'q', 'k', '.', 'e', 'K', '%', 'R', 'f', '\\x04', 'p', ' ', 'T', '4', ')', '{', '}', \"'\", 't', 'i', '(', '(', 'Y', '$', 'j', 'o', '\\x0b', '!', '\\t', '\\x08', '!', '\\x15', '<', '\\x02', '1', '\\x7f', '?', '?', '?', '\\x1e', '[', '\\x1f', 'S', '\\\\', '6', '\\x00', '9', 'M', '*', '\\x0b', '\\x1d', 'O', 'W', 'I', '#', '\\x01', 'j', 'M', ':', 'L', 'i', 'Z', 'I', 'i', 'l', '\\x10', '\\x06', 'I', '\\x1d', '\\x05', '(', 's', ';', '6', 'j', 'r', '\\x16', '\\x0c', '\\x0b', 'F', 'F', 'N', 'j', 'U', '\\x04', '_', 'P', '\\x16', 'c', '~', '*', '<', '\\x0e', ',', '\\x08', '\\x13', '\\x10', '\\x1c', '[', '\\\\', '\\x04', 'H', 'D', 'J', ';', 'e', '\\x1f', 'd', '8', 'V', '\\x00', 'v', 'F', 'Z', 'T', '\\x13', '\\x10', 'j', 't', '?', '\\x0e', '\\x15', '\\x02', 't', '{', '+', '5', '7', 'q', '#', '\\x0e', ' ', 'w', 'n', '`', 'O', ',', 'n', '4', 'Z']\n",
            "Imprimindo como uma Lista, em 5612922ns foi usado ao final 7198bytes, com um pico de 17752bytes\n",
            "['\\x0e', '^', 'G', '!', '\\x02', '\\x1d', '\\x01', 'W', '\\x12', 'u', '}', '\\x0b', ']', 'r', '@', 'X', '0', '3', '\\x11', 'h', 'h', '+', '\\x01', 'H', '-', '+', '8', '!', 'J', '>', 'l', 'w', 'B', '_', '\\x0b', 'F', '-', '$', '\\n', 'C', ',', '+', 'O', '\\x1e', 'K', '\\x0b', '6', '\\x12', 'J', 'h', '&', 'T', '!', '\\x19', 'L', 'P', 'M', '*', '@', 'A', 'U', '\\x18', '`', '\\x0b', 'v', '~', '}', '}', 'Y', '\\x16', '_', 'H', '\\x7f', ' ', '\\x0c', 'x', '\\x0c', '&', 'r', \"'\", '>', 'j', ' ', '~', '8', 'b', 'Y', 'r', '\\x00', 'u', 'u', '0', 'A', 'n', '\\x01', 'R', '\\x0f', 'I', '\\x1a', 'H', 'A', 'E', ',', '4', '{', '\\x04', \"'\", 'T', '[', '\\x05', 't', 'd', ' ', '\\x04', 'Q', '\\n', '\\x1e', \"'\", '\\x0e', '\\t', 'Z', '\\x16', 'P', '+', 'V', '\\x19', 'a', 'M', '\\n', '9', '\\x7f', 'y', '_', ')', '\\x11', 'Z', 't', 'y', 'T', '/', '\\x0e', 'r', '5', '\\x12', 'W', 'h', 'j', '\\x0f', '?', '\\x12', '@', '/', '\\x1a', 'Z', '\\x18', '\\r', 'i', 'g', 'c', '+', 'H', '3', 'g', 'y', 'G', 'T', 'A', 'Z', 'P', '=', 'j', '9', '\\x0f', 'x', '\\x0b', 'b', '3', '\"', '\\x1b', '\\r', '\\x1f', '*', '/', '~', '\\x10', '[', 'b', 't', 'Y', 'n', 's', '\\t', '\\x16', 'p', 'e', '\\x1d', '}', 'a', '_', '&', 'd', '\\x10', 'L', '\\x07', '7', 'D', '~', 'R', '8', '$', '\\x19', '5', 'g', 'c', '}', '\\x04', '#', '}', 'U', 'E', 'C', '^', 'a', '\\n', 'X', '*', '*', ':', 'y', '-', '\\x1a', '#', 'g', 'R', '\\t', 'u', \"'\", 'L', 'I', '<', '1', '6', 'k', '1', 'g', 'Q', 'H', 'B', 'p', '\\x0e', '%', 'h', 'D', '5', '\\x03', 'E', '\\x1b', '0', '@', ',', '\\t', '%', '\\x08', ')', '\\x06', 'v', '{', 'C', '>', '\\x13', '\\x0c', '\\x03', 'f', 'n', 'J', 'V', '_', '+', '(', 'D', 'u', 'x', 'b', '&', 'U', 'I', '?', '\\x1c', 'X', '{', '~', '\\t', 'x', 'z', 't', '\\x1e', 'X', '{', 'g', 'a', '(', 'K', 'I', 'r', 'i', '4', '0', 'f', '#', '[', '+', 'K', '\\x13', 'E', 'i', '%', '`', ' ', 'B', '\\x0b', 'M', 'v', 'M', 'k', \"'\", ')', 'e', ')', '%', '\\x13', '8', 'c', 'S', '\\x1d', 'k', '\\x10', '\\x1a', 'R', 'N', '8', '0', 'e', 'X', 'c', '\\x1b', 'a', 'e', '\\x0e', 'l', 'E', '\\x18', '|', '\\x0b', '5', '\\x13', '|', '\\x16', 'P', '!', 'e', '5', '\\x1b', 'M', '.', 'u', '\\x16', '\\x04', 'd', '&', ')', ':', 'N', 'I', 'd', '%', '\\x1f', 'j', ')', 'K', 'y', 'L', 'n', ':', 'X', 'H', '~', '|', 'Q', 'n', '2', '\\x07', 'e', 'J', '\\x1f', 'j', '\\x00', '2', '\\x03', 'p', ' ', 'm', '/', 'q', '\\x17', '6', '\\x7f', '2', '\\x14', '5', '(', '\\x0f', '\\x11', '!', 'z', 'v', 'W', '\\x19', '(', 'M', '\\x11', '\\x0e', '^', '}', 'w', 'z', 'J', 'e', 'N', '<', '\\x1f', '\"', '\\x1f', 'B', '<', '`', '\\x1c', '\\t', '\\x1d', 'B', '\\x1c', 'v', '!', '(', 'e', 'Z', 'H', '\\x0e', 'N', '}', '8', 'N', '6', '\\r', '\\x15', '5', 'd', '\\x0e', 'H', '\\x02', 'L', 'd', '\\x16', '\"', '-', 'z', 'H', '(', 'p', '\\x02', '\\x02', 'z', ')', 'E', 'T', 'I', 'l', '\\x08', '\\x08', 'T', \"'\", '`', 'm', ' ', 'I', '\\x0c', 'B', '\\x05', 'P', 'M', '\\x15', '/', ' ', '_', '\\x04', '\\\\', '-', '#', ':', '\\x18', '8', '=', 'r', '\\x11', 't', '&', '`', 'm', '?', ';', 'x', '9', '\\x1e', '$', '\\x19', 's', '\\x03', '&', ' ', 'a', 'Q', '\\x18', '`', 'W', 'c', 'L', 'd', '\\x04', 'Z', '\\x17', '\\x16', '_', 'q', 'r', 'm', 'K', '-', ':', 'Y', ':', '\\x17', '$', ':', 't', '\\x0b', 'H', 'U', '\\x16', ' ', '$', '\\x06', 'f', '9', ']', 't', 'A', 't', 'G', 'p', 'M', '\\x1a', 'J', '^', '6', '\\x00', '\\x02', 'v', '#', 'x', '\\\\', 'k', '\\t', 'j', '\\x7f', '3', 'C', '+', '\\x10', '\\x1f', 'T', 'H', '\\x15', 'P', '\\x03', 'a', 'D', 'Z', 'b', '0', 'U', 'z', '\\x08', 'T', '\\t', '\\x01', '-', 'V', '3', ':', '\\x06', '[', '\\x1a', 'L', '\\x14', 'P', '#', '2', '{', 'S', '\\x1a', ':', '+', '9', 'p', 's', '\\x0f', '\\x0f', 'P', 'B', 'R', 'q', '7', '\\x0c', 'K', '3', 'N', 'x', 'a', 'h', '\\x1e', '!', 'r', '\\x15', '?', '!', '_', 'R', '_', 'O', '0', '$', 'G', '/', 'i', 'B', '\\x1b', '2', '6', 'K', '\\x03', 'U', '&', '2', 'e', '+', '\\x08', 'N', '1', '\\r', '=', '\\t', '6', 'Q', '5', '2', '7', 'x', 'n', '{', 'E', 'X', '\\x01', '\\x1d', '@', 'r', '\\x15', '\\x19', ' ', '2', ',', '{', 's', '(', '\\x14', '\\x1b', '\\x14', 'C', 'R', '>', 'I', 'c', '?', 'c', 'Y', 'c', ':', 'w', 'G', '6', '!', 'q', '`', '*', '\\x1a', 'r', 'o', 'X', 'C', 'n', 'H', 'L', '\\x19', ';', 'V', 'y', 'W', '\\t', 'p', 'A', '\\x0f', '3', 'K', 'v', 'M', '\\x0e', 'a', '\\n', '&', '$', 'r', '\\x01', '\\x17', ')', '\\x06', '-', '.', 'X', 'H', 'q', '.', 'C', 'S', '.', '\\x08', ':', '\\x16', 'q', 'A', '\\x01', 'K', '\\x0e', 'i', '\\x0b', 'i', 'A', 'Q', '\"', 'x', '3', '5', '\\x1f', 'L', '\\x17', 'q', 'D', '\\x02', 'Z', ' ', '\\x02', 'a', 'Z', 'J', ')', '\\x1d', '\\t', '[', 'W', 'c', '7', '{', '=', '6', '[', 'R', 's', '`', '/', '\\x1f', '!', '*', 'z', 'M', 's', ',', 'b', '~', '4', '\\x1a', 's', 'Q', 'C', 'H', 'g', '$', 'L', 'u', '#', '5', 'W', '\\x12', 'y', '\\x7f', 'p', 'I', 'V', '/', 'l', 'X', 'O', 'S', 'l', ':', 'b', 'Y', 'J', '\\x14', '\\x00', '{', '\\x08', '|', '\\x11', '/', 'E', 'D', '~', '9', 'w', 'V', 'Z', '\\x0b', '6', 'M', 'Y', 'v', '\\x05', '%', '\\x16', '*', '<', '%', '\\x18', '6', '\\x15', '\\x19', 'x', '\\x07', '1', 'e', '\\x15', '5', 't', 'V', 'q', 'k', '.', 'e', 'K', '%', 'R', 'f', '\\x04', 'p', ' ', 'T', '4', ')', '{', '}', \"'\", 't', 'i', '(', '(', 'Y', '$', 'j', 'o', '\\x0b', '!', '\\t', '\\x08', '!', '\\x15', '<', '\\x02', '1', '\\x7f', '?', '?', '?', '\\x1e', '[', '\\x1f', 'S', '\\\\', '6', '\\x00', '9', 'M', '*', '\\x0b', '\\x1d', 'O', 'W', 'I', '#', '\\x01', 'j', 'M', ':', 'L', 'i', 'Z', 'I', 'i', 'l', '\\x10', '\\x06', 'I', '\\x1d', '\\x05', '(', 's', ';', '6', 'j', 'r', '\\x16', '\\x0c', '\\x0b', 'F', 'F', 'N', 'j', 'U', '\\x04', '_', 'P', '\\x16', 'c', '~', '*', '<', '\\x0e', ',', '\\x08', '\\x13', '\\x10', '\\x1c', '[', '\\\\', '\\x04', 'H', 'D', 'J', ';', 'e', '\\x1f', 'd', '8', 'V', '\\x00', 'v', 'F', 'Z', 'T', '\\x13', '\\x10', 'j', 't', '?', '\\x0e', '\\x15', '\\x02', 't', '{', '+', '5', '7', 'q', '#', '\\x0e', ' ', 'w', 'n', '`', 'O', ',', 'n', '4', 'Z']\n",
            "Imprimindo como uma String, em 3771748ns foi usado ao final 12775bytes, com um pico de 23329bytes\n"
          ]
        }
      ]
    },
    {
      "cell_type": "markdown",
      "source": [
        "\n",
        "\n",
        "---\n",
        "\n",
        "\n",
        "D) Calcular 𝜋 Com 100 casas decimais usando a aproximação de Leibnitz"
      ],
      "metadata": {
        "id": "twuSCPO8V_-h"
      }
    },
    {
      "cell_type": "code",
      "source": [
        "#D)\n",
        "\n",
        "import time\n",
        "import tracemalloc\n",
        "\n",
        "import sympy\n",
        "\n",
        "initialTime = time.time_ns() # Salva o tempo inicial em nanosegundos\n",
        "tracemalloc.start() # Inicia monitoramento da memória\n",
        "\n",
        "pi = 0\n",
        "for i in range(9999):\n",
        "  pi += sympy.N(4 * ((-1) ** i), 101) / sympy.N(2 * i + 1, 101)\n",
        "print(pi)\n",
        "\n",
        "memoryUsed = tracemalloc.get_traced_memory() # Salva a memória usada\n",
        "tracemalloc.stop() # Finaliza monitoramento da memória\n",
        "endTime = time.time_ns() # Salva o tempo final em nanosegundos\n",
        "\n",
        "print(f\"Em {endTime - initialTime}ns foi usado ao final {memoryUsed[0]}bytes, com um pico de {memoryUsed[1]}bytes\")"
      ],
      "metadata": {
        "colab": {
          "base_uri": "https://localhost:8080/"
        },
        "id": "SsxFnUwWWomJ",
        "outputId": "b029817f-6ac8-4410-8f6f-d51b8fd2a955"
      },
      "execution_count": null,
      "outputs": [
        {
          "output_type": "stream",
          "name": "stdout",
          "text": [
            "3.1416926635905432634607684458779405350448265333887126871248103720027220870108448916726730451918657706\n",
            "Em 2003473756ns foi usado ao final 215285bytes, com um pico de 284615bytes\n"
          ]
        }
      ]
    }
  ]
}
